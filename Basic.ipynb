{
  "cells": [
    {
      "metadata": {
        "slideshow": {
          "slide_type": "slide"
        }
      },
      "cell_type": "markdown",
      "source": "# Chapter 0 : Machine Learning Intuition"
    },
    {
      "metadata": {
        "trusted": true
      },
      "cell_type": "code",
      "source": "#!/usr/bin/env python3\nfrom traitlets.config.manager import BaseJSONConfigManager\nfrom pathlib import Path\npath = Path.home() / \".jupyter\" / \"nbconfig\"\ncm = BaseJSONConfigManager(config_dir=str(path))\ncm.update(\n    \"rise\",\n    {\n        \"theme\": \"sky\",\n        \"transition\": \"zoom\",\n        \"start_slideshow_at\": \"selected\",\n     }\n)",
      "execution_count": 2,
      "outputs": [
        {
          "output_type": "execute_result",
          "execution_count": 2,
          "data": {
            "text/plain": "{'theme': 'sky', 'transition': 'zoom', 'start_slideshow_at': 'selected'}"
          },
          "metadata": {}
        }
      ]
    },
    {
      "metadata": {
        "slideshow": {
          "slide_type": "subslide"
        }
      },
      "cell_type": "markdown",
      "source": " ## Supervised And Unsupervised\n \n<img src=\"https://lakshaysuri.files.wordpress.com/2017/03/sup-vs-unsup.png?w=648\">"
    },
    {
      "metadata": {
        "slideshow": {
          "slide_type": "slide"
        }
      },
      "cell_type": "markdown",
      "source": "## Supervised Machine Learning"
    },
    {
      "metadata": {
        "slideshow": {
          "slide_type": "subslide"
        }
      },
      "cell_type": "markdown",
      "source": "## Linear Regression With One Variable\n\n\n\nHypothesis = $h(x) = \\Theta + \\Theta_1 x $\n"
    },
    {
      "metadata": {
        "slideshow": {
          "slide_type": "subslide"
        }
      },
      "cell_type": "markdown",
      "source": "## Linear Regression With One Variable Cost Function\n\nThe cost function $J$ for a particular choice of parameters θ is the mean squared error (MSE):\n\n\\begin{equation*}\nJ(\\theta) = \\frac{1}{m} \\sum_{i=1}^{m}(h_\\theta(x^{(i)})-y^{i})^2 \n\\end{equation*}\n\n\n$m$       = The number of training example  \n$x^{(i)}$ = The input vector for the $i^{th}$ training example  \n$y^{(i)}$ = The class label for the $i^{th}$ training example  \n$\\theta$  = The chosen parameter values or \"weights\" $(\\theta_0,\\theta_1,\\theta_2)$ \n"
    },
    {
      "metadata": {
        "slideshow": {
          "slide_type": "slide"
        }
      },
      "cell_type": "markdown",
      "source": "# Chapter 1 : Basic Linear"
    },
    {
      "metadata": {
        "trusted": true
      },
      "cell_type": "code",
      "source": "%matplotlib inline\nimport matplotlib.pyplot as plt\nplt.style.use('seaborn-whitegrid')\nimport numpy as np",
      "execution_count": 1,
      "outputs": [
        {
          "output_type": "stream",
          "text": "/home/nbuser/anaconda3_501/lib/python3.6/site-packages/matplotlib/font_manager.py:229: UserWarning: Matplotlib is building the font cache using fc-list. This may take a moment.\n  'Matplotlib is building the font cache using fc-list. '\n",
          "name": "stderr"
        }
      ]
    },
    {
      "metadata": {
        "trusted": true
      },
      "cell_type": "code",
      "source": "q = 10\nprint(q)",
      "execution_count": 25,
      "outputs": [
        {
          "output_type": "stream",
          "text": "10\n",
          "name": "stdout"
        }
      ]
    },
    {
      "metadata": {
        "trusted": true
      },
      "cell_type": "code",
      "source": "class model:\n    def __init__(self):\n        self.thetas = np.random.uniform(low=-5,high=10,size=2)\n    \n    def evaluate(self,x):\n        return self.thetas[0] + self.thetas[1]*x\n    \n    def get_thetas(self):\n        return self.thetas\n    \n    def set_thetas(self,_thetas):\n        self.thetas = _thetas\n    \n    def get_plot_data(self):\n        x = np.linspace(0, 20, 1000)\n        f = lambda x : self.thetas[0] + self.thetas[1]*x\n        return x, self.evaluate(x)\n    \n",
      "execution_count": 78,
      "outputs": []
    },
    {
      "metadata": {
        "trusted": true
      },
      "cell_type": "code",
      "source": "def MSE(y_pred,y_ground):\n    res = np.sum((np.power(y_pred - y_ground,2)))/(2*y_pred.size)\n    return res",
      "execution_count": 41,
      "outputs": []
    },
    {
      "metadata": {
        "trusted": true
      },
      "cell_type": "code",
      "source": "def gradient_descent(m: model, x_data, y_data,alpha: int):\n    '''\n    m : model\n    alpha : learning rate\n    '''\n    y_pred = m.evaluate(x_data)\n    old_thetas = m.get_thetas()\n    new_thetas = np.empty(old_thetas.size)\n    \n    new_thetas[0] = alpha * np.sum(y_pred - y_data)/(y_pred.size)\n    new_thetas[1] = alpha * np.sum((y_pred - y_data)* x_data)/(y_pred.size) \n    new_thetas = old_thetas - new_thetas\n    \n    m.set_thetas(new_thetas)",
      "execution_count": 57,
      "outputs": []
    },
    {
      "metadata": {
        "trusted": true
      },
      "cell_type": "code",
      "source": "print(x_data)\nprint(\"Starting thetas : \",m.thetas)\nprint(\"Expected thetas : \",bias, \" \", grad)\nfor i in range(200):\n    if i%20 == 0:\n        print(MSE(m.evaluate(x_data),y_data))\n    gradient_descent(m,x_data,y_data,0.01)\n    #print(\"loop \",i , \" thetas : \", m.thetas)\n\nprint(\"After thetas : \",m.thetas)\n\n\n",
      "execution_count": 104,
      "outputs": [
        {
          "output_type": "stream",
          "text": "[ 8.97708767 11.17811605 10.78067258  7.09331056 10.29459753 14.74988183\n  6.25836511  5.26806425  9.60578436  9.92188891  8.60738735 12.66096023\n 10.61729961 14.94673125 13.05812492 13.69226902  5.88386396  7.75065399\n 10.91786681  8.43443253 14.21959588  5.85763114 13.90897224  8.16098282\n  9.86273431 11.53096102  9.70667202 12.26781799  8.94855662  7.40351662]\nStarting thetas :  [6.00679315 2.2298714 ]\nExpected thetas :  6.250112485161966   2.1516682731762238\n1.640907982763476\n1.6408501649132552\n1.6407938799973247\n1.6407390873727477\n1.6406857474741545\n1.640633821785179\n1.6405832728106435\n1.6405340640494919\n1.6404861599684217\n1.6404395259762328\nAfter thetas :  [6.02935199 2.22778484]\n",
          "name": "stdout"
        }
      ]
    },
    {
      "metadata": {
        "slideshow": {
          "slide_type": "slide"
        },
        "trusted": true
      },
      "cell_type": "code",
      "source": "#Generate Data\nx_data, y_data, grad, bias = generate_data()\n\nf = lambda x, grad, bias: grad*x+bias\nx = np.linspace(0, 20, 1000)\ny = f(x,grad,bias)\n\nx_base = np.linspace(0, 20, 1000)\ny_base = np.linspace(0, 50, 1000)\n\nm = model()\nx_model, y_model = m.get_plot_data()\n\n\n",
      "execution_count": 79,
      "outputs": []
    },
    {
      "metadata": {
        "trusted": true
      },
      "cell_type": "code",
      "source": "x_model, y_model = m.get_plot_data()\n\nfig = plt.figure()\nax = plt.axes()\n\nax.set_ylim(bottom=0,top=50)\nax.set_xlim(left=0,right=20)\nax.plot(x, y,c='green');\n# ax.plot(x_base,y_base)\nax.plot(x_model,y_model)\nax.scatter(x_data, y_data,marker=\"x\",c=\"red\")",
      "execution_count": 105,
      "outputs": [
        {
          "output_type": "execute_result",
          "execution_count": 105,
          "data": {
            "text/plain": "<matplotlib.collections.PathCollection at 0x7f83b056a6d8>"
          },
          "metadata": {}
        },
        {
          "output_type": "display_data",
          "data": {
            "image/png": "[encoded data removed]",
            "text/plain": "<Figure size 432x288 with 1 Axes>"
          },
          "metadata": {
            "needs_background": "light"
          }
        }
      ]
    },
    {
      "metadata": {
        "trusted": true
      },
      "cell_type": "code",
      "source": "x_data, y_data, grad, bias = generate_data()\nnp.savetxt('x.txt', x_data)  \nnp.savetxt('y.txt', x_data)  ",
      "execution_count": 83,
      "outputs": []
    },
    {
      "metadata": {
        "trusted": true
      },
      "cell_type": "code",
      "source": "import numpy as np\n\ndef generate_data():\n    grad = np.random.uniform(low=1,high=3,size=1)[0]\n    bias =  np.random.uniform(low=0,high=10,size=1)[0]\n#     print(grad)\n#     print(bias)\n    f = lambda x,grad,bias,penality,logit: grad*x+bias+(penality*logit)\n    logit = lambda x : 1 / (1 + np.power((x/(1-x)),2) )\n    norm = lambda x: np.abs(x - 10)/10\n    x = np.random.uniform(low=5,high=15,size=30)\n    x_logit = logit(norm(x))\n#     print(sigmoid(x))\n    penality = np.random.uniform(low=-3,high=3,size=30)\n\n    return x , f(x,grad,bias,penality,x_logit), grad, bias,",
      "execution_count": 4,
      "outputs": []
    },
    {
      "metadata": {
        "trusted": true
      },
      "cell_type": "code",
      "source": "logit = lambda x : 1 / (1 + np.power((x/(1-x)),2) )\nx = np.linspace(0, 1, 50)\n# print(x)\n# print(logit(x))\n\n%matplotlib inline\nimport matplotlib.pyplot as plt\nplt.style.use('seaborn-whitegrid')\nimport numpy as np\n\nfig = plt.figure()\nax = plt.axes()\n\nax.plot(x, logit(x))",
      "execution_count": 10,
      "outputs": [
        {
          "output_type": "stream",
          "text": "/home/nbuser/anaconda3_501/lib/python3.6/site-packages/ipykernel/__main__.py:1: RuntimeWarning: divide by zero encountered in true_divide\n  if __name__ == '__main__':\n",
          "name": "stderr"
        },
        {
          "output_type": "execute_result",
          "execution_count": 10,
          "data": {
            "text/plain": "[<matplotlib.lines.Line2D at 0x7fb75d726e80>]"
          },
          "metadata": {}
        },
        {
          "output_type": "display_data",
          "data": {
            "image/png": "[encoded data removed]",
            "text/plain": "<Figure size 432x288 with 1 Axes>"
          },
          "metadata": {}
        }
      ]
    },
    {
      "metadata": {
        "trusted": true
      },
      "cell_type": "code",
      "source": "norm = lambda x: np.abs(x - 10)/10\nx = np.random.uniform(low=5,high=15,size=30)\nprint(x)\nprint(norm(x))",
      "execution_count": 12,
      "outputs": [
        {
          "output_type": "stream",
          "text": "[13.30391579 12.65512299  8.43485973 11.814641    7.87204986  6.18952057\n 14.29756016 11.66869977 10.56550721  9.71993903 14.80234608 10.89791784\n 14.92452754 13.98689045  8.5298043  13.28518861  9.32588511 10.71785765\n 11.25531137 10.61064078 14.16269719 11.11591031 13.09022456 14.06660388\n 13.95366688  8.57260778 11.13866428 12.60938342  6.41419606 14.04876444]\n[0.33039158 0.2655123  0.15651403 0.1814641  0.21279501 0.38104794\n 0.42975602 0.16686998 0.05655072 0.0280061  0.48023461 0.08979178\n 0.49245275 0.39868904 0.14701957 0.32851886 0.06741149 0.07178576\n 0.12553114 0.06106408 0.41626972 0.11159103 0.30902246 0.40666039\n 0.39536669 0.14273922 0.11386643 0.26093834 0.35858039 0.40487644]\n",
          "name": "stdout"
        }
      ]
    },
    {
      "metadata": {
        "trusted": true
      },
      "cell_type": "code",
      "source": "generate_data()",
      "execution_count": 30,
      "outputs": [
        {
          "output_type": "stream",
          "text": "[0.38264825 0.50153896 0.38689835 0.59998211 0.59025753 0.56904706\n 0.496424   0.59730688 0.44320399 0.56600377 0.51255325 0.59468893\n 0.547844   0.43764419 0.39737256 0.52171758 0.60098804 0.54094104\n 0.42771431 0.47956805 0.42451346 0.41753974 0.60970501 0.38323795\n 0.4997289  0.42741688 0.48585059 0.3882652  0.5852717  0.52230991]\n",
          "name": "stdout"
        },
        {
          "output_type": "execute_result",
          "execution_count": 30,
          "data": {
            "text/plain": "(array([ 5.21677194, 10.0615585 ,  5.39631252, 14.05390567, 13.65030103,\n        12.77964251,  9.85695769, 13.94256224,  7.71831192, 12.6556491 ,\n        10.50223563, 13.83383633, 11.9196333 ,  7.49271464,  5.83575113,\n        10.86925001, 14.09583628, 11.6413165 ,  7.08817161,  9.18226661,\n         6.95727862,  6.6711876 , 14.46072415,  5.24172774,  9.9891562 ,\n         7.07601935,  9.43387263,  5.45389751, 13.44452576, 10.89298946]),\n array([20.79375888, 25.51786866, 15.65360891, 38.14888212, 33.62290229,\n        29.05316507, 22.52495968, 40.16434926, 26.82255193, 37.7115849 ,\n        28.03099987, 39.62760906, 32.55647564, 18.69594052, 20.02780459,\n        24.84585575, 36.71443136, 27.9114012 , 19.96976048, 23.50480893,\n        17.96948291, 18.42482527, 37.25289895, 14.39714692, 30.44517828,\n        21.20609439, 28.42594833, 19.96949501, 39.38303715, 31.83867499]))"
          },
          "metadata": {}
        }
      ]
    },
    {
      "metadata": {
        "slideshow": {
          "slide_type": "slide"
        }
      },
      "cell_type": "markdown",
      "source": " <img src=\"img/vandiagram.PNG\"  width=\"500\">\n \n "
    },
    {
      "metadata": {
        "slideshow": {
          "slide_type": "slide"
        }
      },
      "cell_type": "markdown",
      "source": "## Scalars, Vectors, Matrices and Tensors\n\n**Scalar:** is just a single number\n\n\\begin{equation*}\ns \\in \\mathbb{R} \n\\end{equation*}\n**Vector:** A vector is an array of numbers.\n\n\\begin{equation*}\nx =  \\left[\n\\begin{matrix}\n x_1 \\\\\n x_2 \\\\\n \\vdots \\\\\nx_n \\\\ \n\\end{matrix}\n\\right]\n\\end{equation*}\n\n**Matrices:** A matrix is a 2-D array of numbers\n\n\\begin{equation*}\nA = \\begin{bmatrix}\nA_1,_1 & A_1,_2 & A_1,_3\\\\ \nA_2,_1 & A_2,_2 & A_2,_3\n\\end{bmatrix}\n\\end{equation*}\n"
    },
    {
      "metadata": {
        "trusted": true
      },
      "cell_type": "code",
      "source": "!pip freeze",
      "execution_count": 1,
      "outputs": [
        {
          "output_type": "stream",
          "text": "absl-py==0.8.1\r\nadal==1.2.2\r\nalabaster==0.7.11\r\naltair==3.2.0\r\nanaconda-client==1.7.2\r\nanaconda-navigator==1.9.2\r\nanaconda-project==0.8.2\r\nansiwrap==0.8.4\r\nantlr4-python3-runtime==4.7.2\r\nappdirs==1.4.3\r\napplicationinsights==0.11.9\r\nargcomplete==1.10.0\r\narrow==0.15.4\r\nasn1crypto==0.24.0\r\nastor==0.8.0\r\nastroid==2.0.4\r\nastropy==3.0.4\r\natomicwrites==1.2.1\r\nattrs==18.2.0\r\nAutomat==0.7.0\r\nazure==4.0.0\r\nazure-applicationinsights==0.1.0\r\nazure-batch==4.1.3\r\nazure-cli-core==2.0.54\r\nazure-cli-nspkg==3.0.4\r\nazure-cli-telemetry==1.0.4\r\nazure-common==1.1.23\r\nazure-cosmosdb-nspkg==2.0.2\r\nazure-cosmosdb-table==1.0.6\r\nazure-datalake-store==0.0.48\r\nazure-eventgrid==1.3.0\r\nazure-graphrbac==0.40.0\r\nazure-keyvault==1.1.0\r\nazure-kusto-data==0.0.38\r\nazure-kusto-ingest==0.0.38\r\nazure-loganalytics==0.1.0\r\nazure-mgmt==4.0.0\r\nazure-mgmt-advisor==1.0.1\r\nazure-mgmt-applicationinsights==0.1.1\r\nazure-mgmt-authorization==0.50.0\r\nazure-mgmt-batch==5.0.1\r\nazure-mgmt-batchai==2.0.0\r\nazure-mgmt-billing==0.2.0\r\nazure-mgmt-cdn==3.1.0\r\nazure-mgmt-cognitiveservices==3.0.0\r\nazure-mgmt-commerce==1.0.1\r\nazure-mgmt-compute==4.6.2\r\nazure-mgmt-consumption==2.0.0\r\nazure-mgmt-containerinstance==1.5.0\r\nazure-mgmt-containerregistry==2.8.0\r\nazure-mgmt-containerservice==4.4.0\r\nazure-mgmt-cosmosdb==0.4.1\r\nazure-mgmt-datafactory==0.6.0\r\nazure-mgmt-datalake-analytics==0.6.0\r\nazure-mgmt-datalake-nspkg==3.0.1\r\nazure-mgmt-datalake-store==0.5.0\r\nazure-mgmt-datamigration==1.0.0\r\nazure-mgmt-devspaces==0.1.0\r\nazure-mgmt-devtestlabs==2.2.0\r\nazure-mgmt-dns==2.1.0\r\nazure-mgmt-eventgrid==1.0.0\r\nazure-mgmt-eventhub==2.6.0\r\nazure-mgmt-hanaonazure==0.1.1\r\nazure-mgmt-iotcentral==0.1.0\r\nazure-mgmt-iothub==0.5.0\r\nazure-mgmt-iothubprovisioningservices==0.2.0\r\nazure-mgmt-keyvault==1.1.0\r\nazure-mgmt-loganalytics==0.2.0\r\nazure-mgmt-logic==3.0.0\r\nazure-mgmt-machinelearningcompute==0.4.1\r\nazure-mgmt-managementgroups==0.1.0\r\nazure-mgmt-managementpartner==0.1.1\r\nazure-mgmt-maps==0.1.0\r\nazure-mgmt-marketplaceordering==0.1.0\r\nazure-mgmt-media==1.0.0\r\nazure-mgmt-monitor==0.5.2\r\nazure-mgmt-msi==0.2.0\r\nazure-mgmt-network==2.7.0\r\nazure-mgmt-notificationhubs==2.1.0\r\nazure-mgmt-nspkg==3.0.2\r\nazure-mgmt-policyinsights==0.1.0\r\nazure-mgmt-powerbiembedded==2.0.0\r\nazure-mgmt-rdbms==1.9.0\r\nazure-mgmt-recoveryservices==0.3.0\r\nazure-mgmt-recoveryservicesbackup==0.3.0\r\nazure-mgmt-redis==5.0.0\r\nazure-mgmt-relay==0.1.0\r\nazure-mgmt-reservations==0.2.1\r\nazure-mgmt-resource==2.0.0\r\nazure-mgmt-scheduler==2.0.0\r\nazure-mgmt-search==2.1.0\r\nazure-mgmt-servicebus==0.5.3\r\nazure-mgmt-servicefabric==0.2.0\r\nazure-mgmt-signalr==0.1.1\r\nazure-mgmt-sql==0.9.1\r\nazure-mgmt-storage==2.0.0\r\nazure-mgmt-subscription==0.2.0\r\nazure-mgmt-trafficmanager==0.50.0\r\nazure-mgmt-web==0.35.0\r\nazure-nspkg==3.0.2\r\nazure-servicebus==0.21.1\r\nazure-servicefabric==6.3.0.0\r\nazure-servicemanagement-legacy==0.20.6\r\nazure-storage-blob==2.1.0\r\nazure-storage-common==2.1.0\r\nazure-storage-file==1.4.0\r\nazure-storage-queue==2.1.0\r\nazureml-automl-core==1.0.72.1\r\nazureml-contrib-notebook==1.0.72\r\nazureml-core==1.0.72\r\nazureml-dataprep==1.1.30\r\nazureml-dataprep-native==13.1.0\r\nazureml-defaults==1.0.72\r\nazureml-explain-model==1.0.72\r\nazureml-interpret==1.0.72.1\r\nazureml-model-management-sdk==1.0.1b6.post1\r\nazureml-opendatasets==1.0.72.1\r\nazureml-pipeline==1.0.72\r\nazureml-pipeline-core==1.0.72\r\nazureml-pipeline-steps==1.0.72\r\nazureml-sdk==1.0.72\r\nazureml-telemetry==1.0.72\r\nazureml-train==1.0.72\r\nazureml-train-automl==1.0.72\r\nazureml-train-core==1.0.72\r\nazureml-train-restclients-hyperdrive==1.0.72\r\nazureml-widgets==1.0.72\r\nBabel==2.6.0\r\nbackcall==0.1.0\r\nbackports.shutil-get-terminal-size==1.0.0\r\nbackports.tempfile==1.0\r\nbackports.weakref==1.0rc1\r\nbcrypt==3.1.7\r\nbeautifier==0.5.5\r\nbeautifulsoup4==4.6.3\r\nbitarray==0.8.3\r\nbkcharts==0.2\r\nblaze==0.11.3\r\nbleach==1.5.0\r\nbokeh==0.13.0\r\nboto==2.49.0\r\nboto3==1.4.8\r\nbotocore==1.8.50\r\nBottleneck==1.2.1\r\nbqplot==0.12.0\r\nbrewer2mpl==1.4.1\r\nbz2file==0.98\r\nCacheControl==0.12.5\r\ncachetools==3.1.1\r\ncertifi==2018.10.15\r\ncffi==1.11.5\r\ncharacteristic==14.3.0\r\nchardet==3.0.4\r\nClick==7.0\r\ncloudpickle==1.2.2\r\nclyent==1.2.2\r\ncntk==2.5.1\r\ncolorama==0.3.9\r\nconda==4.5.11\r\nconda-build==3.16.0\r\nconfigparser==3.7.4\r\nconstantly==15.1.0\r\ncontextlib2==0.5.5\r\ncoverage==3.7.1\r\ncoveralls==0.5\r\ncryptography==2.3.1\r\ncycler==0.10.0\r\nCython==0.29.14\r\ncytoolz==0.9.0.1\r\ndask==0.19.3\r\ndatacleaner==0.1.5\r\ndatascience==0.10.6\r\ndatashape==0.5.4\r\ndecorator==4.3.0\r\ndefusedxml==0.5.0\r\nDeprecated==1.2.6\r\ndill==0.3.1.1\r\ndistributed==1.23.3\r\ndistro==1.4.0\r\ndocker==4.1.0\r\ndocker-py==1.10.6\r\ndocker-pycreds==0.4.0\r\ndocopt==0.6.2\r\ndocutils==0.14\r\nDora==0.0.2\r\ndotnetcore2==2.1.10\r\nedward==1.3.5\r\nelasticsearch==7.0.5\r\nentrypoints==0.2.3\r\net-xmlfile==1.0.1\r\nfastcache==1.0.2\r\nfeedparser==5.2.1\r\nfilelock==3.0.8\r\nfire==0.2.1\r\nFlask==1.0.3\r\nFlask-Cors==3.0.6\r\nfolium==0.2.1\r\nftfy==5.3.0\r\nfusepy==3.0.1\r\nfuture==0.16.0\r\nfutures==3.1.1\r\ngast==0.3.2\r\nGDAL==2.3.0\r\ngensim==3.8.1\r\ngevent==1.3.6\r\nggplot==0.11.5\r\nglob2==0.6\r\ngmpy2==2.0.8\r\ngoogle-auth==1.7.0\r\ngoogle-auth-oauthlib==0.4.1\r\ngoogle-pasta==0.1.8\r\ngraphviz==0.13.2\r\ngreenlet==0.4.15\r\ngrpcio==1.25.0\r\ngunicorn==19.9.0\r\ngym==0.15.3\r\nh5py==2.8.0\r\nhdmedians==0.13\r\nheapdict==1.0.0\r\nholoviews==1.10.7\r\nhtml5lib==0.9999999\r\nhumanfriendly==4.18\r\nhyperlink==18.0.0\r\nidna==2.7\r\nimageio==2.4.1\r\nimagesize==1.1.0\r\nincremental==17.5.0\r\ninterpret-community==0.1.0.3.2\r\ninterpret-core==0.1.18\r\nipykernel==5.1.3\r\nipython==7.1.1\r\nipython-genutils==0.2.0\r\nipywidgets==7.5.1\r\nisodate==0.6.0\r\nisort==4.3.4\r\nitsdangerous==0.24\r\njdcal==1.4\r\njedi==0.13.1\r\njeepney==0.4\r\nJinja2==2.10\r\njmespath==0.9.4\r\njoblib==0.14.0\r\njson-logging-py==0.2\r\nJsonForm==0.0.2\r\njsonpickle==1.2\r\njsonschema==2.6.0\r\nJsonSir==0.0.2\r\njupyter==1.0.0\r\njupyter-client==5.2.3\r\njupyter-console==6.0.0\r\njupyter-core==4.4.0\r\njupyterlab==0.34.12\r\njupyterlab-launcher==0.13.1\r\nkafka-python==1.4.7\r\nkazoo==2.5.0\r\nKeras==2.3.1\r\nKeras-Applications==1.0.8\r\nKeras-Preprocessing==1.1.0\r\nkeras2onnx==1.6.0\r\nkeyring==13.2.1\r\nkiwisolver==1.0.1\r\nklein==19.6.0\r\nknack==0.5.1\r\nKqlmagic==0.1.107.post1\r\nlancet-ioam==0.9.0\r\nlazy-object-proxy==1.3.1\r\nliac-arff==2.4.0\r\nlibarchive-c==2.8\r\nlightgbm==2.3.0\r\nline-profiler==2.1.2\r\nllvmlite==0.25.0\r\nlocket==0.2.0\r\nlockfile==0.12.2\r\nluigi==2.8.2\r\nlxml==4.2.5\r\nMarkdown==3.0.1\r\nMarkupSafe==1.1.0\r\nmatplotlib==3.0.0\r\nmccabe==0.6.1\r\nmemory-profiler==0.56.0\r\nmistune==0.8.4\r\nmkl-fft==1.0.6\r\nmkl-random==1.0.1\r\nmock==2.0.0\r\nmore-itertools==4.3.0\r\nmpmath==1.0.0\r\nmsgpack==0.5.6\r\nmsrest==0.6.10\r\nmsrestazure==0.6.2\r\nmultimethods==1.0.0\r\nmultipledispatch==0.6.0\r\nnatsort==5.4.0\r\nnavigator-updater==0.2.1\r\nnbconvert==5.6.1\r\nnbformat==4.4.0\r\nndg-httpsclient==0.5.1\r\nnetworkx==2.2\r\nnimbusml==1.5.0\r\nnltk==3.3\r\nnose==1.3.7\r\nnotebook==5.7.2\r\nnumba==0.40.0\r\nnumexpr==2.6.8\r\nnumpy==1.16.2\r\nnumpydoc==0.8.0\r\noauthlib==3.1.0\r\nodo==0.5.1\r\nokpy==1.13.11\r\nolefile==0.46\r\nonnx==1.6.0\r\nonnxconverter-common==1.6.0\r\nonnxmltools==1.6.0\r\nonnxruntime==1.0.0\r\nopenfst==1.6.1\r\nopenpyxl==2.5.8\r\npackaging==18.0\r\npandas==0.23.4\r\npandasql==0.7.3\r\npandocfilters==1.4.2\r\npapermill==1.2.1\r\nparam==1.7.0\r\nparamiko==2.6.0\r\nparso==0.3.1\r\npartd==0.3.8\r\npath.py==11.1.0\r\npathlib2==2.3.2\r\npathspec==0.6.0\r\npatsy==0.5.1\r\npbr==4.2.0\r\npep8==1.7.1\r\npexpect==4.6.0\r\nphonenumbers==8.10.22\r\npickleshare==0.7.5\r\nPillow==5.3.0\r\npkginfo==1.4.2\r\nplotly==4.2.1\r\npluggy==0.7.1\r\nply==3.11\r\npmdarima==1.1.1\r\nportalocker==1.5.1\r\nprettypandas==0.0.4\r\nprettytable==0.7.2\r\nprometheus-client==0.4.2\r\nprompt-toolkit==2.0.7\r\nprotobuf==3.10.0\r\npsutil==5.4.7\r\npsycopg2==2.7.5\r\nptyprocess==0.6.0\r\npy==1.6.0\r\npy4j==0.10.7\r\npyang==2.1\r\npyarrow==0.13.0\r\npyasn1==0.4.4\r\npyasn1-modules==0.2.2\r\npycodestyle==2.4.0\r\npycosat==0.6.3\r\npycparser==2.19\r\npycrypto==2.6.1\r\npycurl==7.43.0.2\r\npydot==1.4.1\r\npyflakes==2.0.0\r\nPyGithub==1.44.1\r\npyglet==1.3.2\r\nPygments==2.2.0\r\nPyHamcrest==1.9.0\r\nPyJWT==1.7.1\r\npykafka==2.8.0\r\npylint==2.1.1\r\npymc==2.3.6\r\npymc3==3.7\r\npymongo==3.7.1\r\nPympler==0.7\r\npymssql==2.1.1\r\nPyMySQL==0.9.2\r\nPyNaCl==1.3.0\r\npyodbc==3.1.1\r\npyOpenSSL==18.0.0\r\npypachy==0.1.5\r\npyparsing==2.3.0\r\npyprof2calltree==1.4.4\r\nPySocks==1.6.8\r\npyspark==2.4.4\r\npytest==3.8.2\r\npytest-arraydiff==0.2\r\npytest-astropy==0.4.0\r\npytest-doctestplus==0.1.3\r\npytest-openfiles==0.3.0\r\npytest-remotedata==0.3.0\r\npython-daemon==2.1.2\r\npython-dateutil==2.8.1\r\nPython-EasyConfig==0.1.7\r\npytz==2019.3\r\npyviz-comms==0.6.0\r\nPyWavelets==1.0.1\r\nPyYAML==3.13\r\npyzmq==17.1.2\r\nQtAwesome==0.5.0\r\nqtconsole==4.4.2\r\nQtPy==1.5.1\r\nrequests==2.22.0\r\nrequests-oauthlib==1.3.0\r\nResource==0.2.1\r\nretrying==1.3.3\r\nrope==0.11.0\r\nrpy2==3.0.5\r\nrsa==4.0\r\nruamel-yaml==0.15.46\r\nruamel.yaml==0.15.89\r\ns3transfer==0.1.13\r\nscikit-bio==0.5.5\r\nscikit-image==0.16.2\r\nscikit-learn==0.20.3\r\nscipy==1.1.0\r\nscrubadub==1.2.1\r\nseaborn==0.9.0\r\nSecretStorage==3.1.0\r\nSend2Trash==1.5.0\r\nservice-identity==17.0.0\r\nshap==0.29.3\r\nsimplegeneric==0.8.1\r\nsingledispatch==3.4.0.3\r\nsix==1.11.0\r\nskl2onnx==1.4.9\r\nsklearn==0.0\r\nsklearn-pandas==1.7.0\r\nsmart-open==1.9.0\r\nsnakeviz==2.0.1\r\nsnowballstemmer==1.2.1\r\nsortedcollections==1.0.1\r\nsortedcontainers==2.0.5\r\nSphinx==1.8.1\r\nsphinxcontrib-websupport==1.1.0\r\nspyder==3.3.1\r\nspyder-kernels==0.2.6\r\nSQLAlchemy==1.2.14\r\nstatsmodels==0.9.0\r\nsympy==1.3\r\ntables==3.4.4\r\ntabulate==0.8.2\r\ntb-nightly==1.14.0a20190603\r\ntblib==1.3.2\r\ntenacity==6.0.0\r\ntensorboard==2.0.1\r\ntensorflow==2.0.0b1\r\ntermcolor==1.1.0\r\nterminado==0.8.1\r\ntestpath==0.4.2\r\ntextblob==0.15.3\r\ntextwrap3==0.9.2\r\ntf-estimator-nightly==1.14.0.dev2019060501\r\ntf2onnx==1.5.3\r\nTheano==1.0.4\r\ntoolz==0.9.0\r\ntorch==1.3.1\r\ntorchvision==0.4.2\r\ntornado==4.5.3\r\ntqdm==4.26.0\r\ntraitlets==4.3.2\r\ntraittypes==0.2.1\r\ntreq==18.6.0\r\nTubes==0.2.0\r\nTwisted==18.7.0\r\ntyped-ast==1.1.0\r\ntyping==3.7.4.1\r\ntyping-extensions==3.7.4.1\r\nunicodecsv==0.14.1\r\nupdate-checker==0.16\r\nurllib3==1.23\r\nwcwidth==0.1.7\r\nwebencodings==0.5.1\r\nwebsocket-client==0.56.0\r\nWerkzeug==0.14.1\r\nwget==3.2\r\nwidgetsnbextension==3.5.1\r\nword2vec==0.10.2\r\nwrapt==1.11.2\r\nxlrd==1.1.0\r\nXlsxWriter==1.1.1\r\nxlwt==1.3.0\r\nzict==0.1.3\r\nzope.interface==4.5.0\r\n",
          "name": "stdout"
        }
      ]
    },
    {
      "metadata": {},
      "cell_type": "markdown",
      "source": "## Tensorflow Example "
    },
    {
      "metadata": {},
      "cell_type": "markdown",
      "source": ""
    },
    {
      "metadata": {
        "slideshow": {
          "slide_type": "slide"
        },
        "trusted": true
      },
      "cell_type": "markdown",
      "source": "## Chapter 2 : Linear Regression"
    },
    {
      "metadata": {
        "trusted": true
      },
      "cell_type": "code",
      "source": "import tensorflow as tf\ntf.__version__",
      "execution_count": 3,
      "outputs": [
        {
          "output_type": "execute_result",
          "execution_count": 3,
          "data": {
            "text/plain": "'2.0.0-beta1'"
          },
          "metadata": {}
        }
      ]
    },
    {
      "metadata": {
        "trusted": true
      },
      "cell_type": "code",
      "source": "print(tf.add(1, 2))",
      "execution_count": 3,
      "outputs": [
        {
          "output_type": "stream",
          "text": "tf.Tensor(3, shape=(), dtype=int32)\n",
          "name": "stdout"
        }
      ]
    },
    {
      "metadata": {
        "trusted": true
      },
      "cell_type": "code",
      "source": "import numpy as np\n\nndarray = np.ones([3, 3])\n\nprint(\"TensorFlow operations convert numpy arrays to Tensors automatically\")\ntensor = tf.multiply(ndarray, 42)\nprint(tensor)\n\n\nprint(\"And NumPy operations convert Tensors to numpy arrays automatically\")\nprint(np.add(tensor, 1))\n\nprint(\"The .numpy() method explicitly converts a Tensor to a numpy array\")\nprint(tensor.numpy())",
      "execution_count": 3,
      "outputs": [
        {
          "output_type": "stream",
          "text": "TensorFlow operations convert numpy arrays to Tensors automatically\ntf.Tensor(\n[[42. 42. 42.]\n [42. 42. 42.]\n [42. 42. 42.]], shape=(3, 3), dtype=float64)\nAnd NumPy operations convert Tensors to numpy arrays automatically\n[[43. 43. 43.]\n [43. 43. 43.]\n [43. 43. 43.]]\nThe .numpy() method explicitly converts a Tensor to a numpy array\n[[42. 42. 42.]\n [42. 42. 42.]\n [42. 42. 42.]]\n",
          "name": "stdout"
        }
      ]
    },
    {
      "metadata": {
        "trusted": true
      },
      "cell_type": "code",
      "source": "print(\"Is there a GPU available: \"),\nprint(tf.config.experimental.list_physical_devices(\"GPU\"))",
      "execution_count": 4,
      "outputs": [
        {
          "output_type": "stream",
          "text": "Is there a GPU available: \n[]\n",
          "name": "stdout"
        }
      ]
    },
    {
      "metadata": {
        "trusted": true
      },
      "cell_type": "code",
      "source": "import numpy as np\n\nx = tf.random.uniform((1, 1))\nprint(x)\n# with tf.GradientTape() as t:\n#     t.watch(x)\n#     y = tf.reduce_sum(x)\n#     print(y)\n#     z = tf.multiply(y, y)\n#     print(z)\n    \n\n# Derivative of z with respect to the original input tensor x\n# dz_dx = t.gradient(z, y)\n# for i in [0, 1]:\n#   for j in [0, 1]:\n#     assert dz_dx[i][j].numpy() == 8.0\n    \n# print(dz_dx)",
      "execution_count": 39,
      "outputs": [
        {
          "output_type": "stream",
          "text": "tf.Tensor([[0.8142122]], shape=(1, 1), dtype=float32)\n",
          "name": "stdout"
        }
      ]
    },
    {
      "metadata": {
        "trusted": true
      },
      "cell_type": "code",
      "source": " from collections import OrderedDict\n    \na = ['c','a','r','t','w']\n\nb = [1.0,2.0,3.3,10.5,9.1]\n\nc = OrderedDict()\n\n\nfor d in zip(b,a):\n    c[d[0]] = d[1]\n    \nprint(list(c.keys()))\n# print(a[2.0])\n# count = 0\n# for i in a:\n#     if count == len(a)-2:\n#         print(i)\n#         break\n#     count += 1",
      "execution_count": 37,
      "outputs": [
        {
          "output_type": "stream",
          "text": "[1.0, 2.0, 3.3, 10.5, 9.1]\n",
          "name": "stdout"
        }
      ]
    },
    {
      "metadata": {
        "trusted": true
      },
      "cell_type": "code",
      "source": "f = open('text_equ.txt')\n\nequ = f.read()\n\nx = 2\n\neval(equ)\n",
      "execution_count": 45,
      "outputs": [
        {
          "output_type": "execute_result",
          "execution_count": 45,
          "data": {
            "text/plain": "7"
          },
          "metadata": {}
        }
      ]
    },
    {
      "metadata": {
        "trusted": true
      },
      "cell_type": "code",
      "source": "import os\nos.getcwd()",
      "execution_count": 44,
      "outputs": [
        {
          "output_type": "execute_result",
          "execution_count": 44,
          "data": {
            "text/plain": "'/home/nbuser/library'"
          },
          "metadata": {}
        }
      ]
    }
  ],
  "metadata": {
    "kernelspec": {
      "name": "python36",
      "display_name": "Python 3.6",
      "language": "python"
    },
    "language_info": {
      "mimetype": "text/x-python",
      "nbconvert_exporter": "python",
      "name": "python",
      "pygments_lexer": "ipython3",
      "version": "3.6.6",
      "file_extension": ".py",
      "codemirror_mode": {
        "version": 3,
        "name": "ipython"
      }
    },
    "celltoolbar": "Slideshow",
    "rise": {
      "enable_chalkboard": true
    }
  },
  "nbformat": 4,
  "nbformat_minor": 2
}