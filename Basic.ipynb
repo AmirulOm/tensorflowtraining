{
  "cells": [
    {
      "metadata": {
        "slideshow": {
          "slide_type": "slide"
        }
      },
      "cell_type": "markdown",
      "source": "<h1 style=\"text-align: center;\"> Linear Regression With Tensorflow Sharing Session </h1>\n<center><img src=\"https://res-2.cloudinary.com/crunchbase-production/image/upload/c_lpad,h_256,w_256,f_auto,q_auto:eco/qbient9azpblv8bekjhj\"  align=\"middle\"></center>"
    },
    {
      "metadata": {
        "slideshow": {
          "slide_type": "subslide"
        }
      },
      "cell_type": "markdown",
      "source": "Tensorfow is confusing, using it and customize it requires deep understanding on Machine Learning theory"
    },
    {
      "metadata": {
        "slideshow": {
          "slide_type": "fragment"
        },
        "trusted": true
      },
      "cell_type": "code",
      "source": "import tensorflow as tf\n\nfrom tensorflow import keras\nfrom tensorflow.keras import layers\n\ndef build_model():\n    model = keras.Sequential([\n    layers.Dense(64, activation='relu', input_shape=[len(train_dataset.keys())]),\n    layers.Dense(64, activation='relu'),\n    layers.Dense(1)\n    ])\n    \n    optimizer = tf.keras.optimizers.RMSprop(0.001)\n    \n    model.compile(loss='mse',\n                optimizer=optimizer,\n                metrics=['mae', 'mse'])\n    \n    return model\n\nmodel = build_model()\nmodel.fit(normed_train_data, train_labels)\nmodel.evaluate(normed_test_data, test_labels)\nmodel.predict()",
      "execution_count": null,
      "outputs": []
    },
    {
      "metadata": {
        "slideshow": {
          "slide_type": "subslide"
        }
      },
      "cell_type": "markdown",
      "source": "## Objective\n\n1. Learn basic linear regression with one variable\n2. Write from sracth using python\n3. Rewrite it back using tensorflow 2.0\n4. pray that everything just work"
    },
    {
      "metadata": {
        "slideshow": {
          "slide_type": "slide"
        }
      },
      "cell_type": "markdown",
      "source": "## Scalars, Vectors, Matrices and Tensors\n\n**Scalar:** is just a single number\n\n\\begin{equation*}\ns \\in \\mathbb{R} \n\\end{equation*}\n**Vector:** A vector is an array of numbers.\n\n\\begin{equation*}\nx =  \\left[\n\\begin{matrix}\n x_1 \\\\\n x_2 \\\\\n \\vdots \\\\\nx_n \\\\ \n\\end{matrix}\n\\right]\n\\end{equation*}\n\n**Matrices:** A matrix is a 2-D array of numbers\n\n\\begin{equation*}\nA = \\begin{bmatrix}\nA_1,_1 & A_1,_2 & A_1,_3\\\\ \nA_2,_1 & A_2,_2 & A_2,_3\n\\end{bmatrix}\n\\end{equation*}\n"
    },
    {
      "metadata": {
        "trusted": true
      },
      "cell_type": "code",
      "source": "# Use numpy",
      "execution_count": null,
      "outputs": []
    },
    {
      "metadata": {
        "slideshow": {
          "slide_type": "subslide"
        }
      },
      "cell_type": "markdown",
      "source": " ## Supervised And Unsupervised\n \n**Supervised Learning** : In supervised learning, we are given a data set and already know what our correct output should look like, having the idea\nthat there is a relationship between the input and the output.\n\n**Unsupervised learning** : on the other hand, allows us to approach problems with little or no idea what our results should\nlook like. We can derive structure from data where we don't necessarily know the e􀃗ect of the variable\n\n<img src=\"https://encrypted-tbn0.gstatic.com/images?q=tbn:ANd9GcRc1XTSwQBPRwCB7RGGb_F1zVorW3dDjFW5SF2em3EiAlizLvwt&s\">"
    },
    {
      "metadata": {
        "slideshow": {
          "slide_type": "slide"
        }
      },
      "cell_type": "markdown",
      "source": "## Supervised Machine Learning"
    },
    {
      "metadata": {
        "slideshow": {
          "slide_type": "subslide"
        }
      },
      "cell_type": "markdown",
      "source": "## Imports time\nLets import all Library first"
    },
    {
      "metadata": {
        "slideshow": {
          "slide_type": "fragment"
        },
        "trusted": true
      },
      "cell_type": "code",
      "source": "%matplotlib inline\nimport matplotlib.pyplot as plt\n# plt.style.use('seaborn-whitegrid')\nimport numpy as np\n",
      "execution_count": 1,
      "outputs": []
    },
    {
      "metadata": {
        "slideshow": {
          "slide_type": "subslide"
        }
      },
      "cell_type": "markdown",
      "source": "## Random Data Generator"
    },
    {
      "metadata": {
        "slideshow": {
          "slide_type": "fragment"
        },
        "trusted": true
      },
      "cell_type": "code",
      "source": "def generate_data():\n    grad = np.random.uniform(low=1,high=3,size=1)[0]\n    bias = np.random.uniform(low=0,high=10,size=1)[0]\n    f = lambda x,grad,bias,penality,logit: grad*x+bias+(penality*logit)\n    logit = lambda x : 1 / (1 + np.power((x/(1-x)),2) )\n    norm = lambda x: np.abs(x - 10)/10\n    x = np.random.uniform(low=5,high=15,size=30)\n    x_logit = logit(norm(x))\n    penality = np.random.uniform(low=-3,high=3,size=30)\n\n    return x , f(x,grad,bias,penality,x_logit), grad, bias,",
      "execution_count": 2,
      "outputs": []
    },
    {
      "metadata": {
        "trusted": true,
        "slideshow": {
          "slide_type": "fragment"
        }
      },
      "cell_type": "code",
      "source": "x_data, y_data, grad, bias = generate_data()\nx_data, y_data, grad, bias",
      "execution_count": 3,
      "outputs": [
        {
          "output_type": "execute_result",
          "execution_count": 3,
          "data": {
            "text/plain": "(array([ 7.89037509, 13.82464772, 14.55208576,  5.9651392 , 14.47067284,\n        11.9132234 ,  5.86614643,  5.00181963,  9.74484594,  6.54416872,\n        14.33307945, 13.55524704,  6.56172215, 10.59727227,  6.61596528,\n        12.40835564, 14.65591399,  6.08940353, 13.10089228, 12.74419099,\n         6.81904985, 10.05817091, 14.4742814 ,  9.06211349,  7.73518199,\n         8.25897862, 11.42788843,  9.86036545, 12.30348419, 13.66424059]),\n array([13.49493828, 22.12491162, 22.79046255, 14.61762563, 20.68195479,\n        18.7937737 , 11.12513524, 12.49133106, 19.71279435, 15.79086798,\n        22.86508047, 23.53006913, 12.81673988, 15.94017308, 14.29938489,\n        18.6868988 , 23.33421064, 13.297026  , 18.50813196, 22.34847647,\n        11.56162783, 17.08553436, 21.84229601, 15.03039919, 13.88110618,\n        14.2123208 , 19.67431942, 16.70266425, 20.04052556, 22.74780746]),\n 1.1305344962457824,\n 6.1326732986555434)"
          },
          "metadata": {}
        }
      ]
    },
    {
      "metadata": {
        "slideshow": {
          "slide_type": "subslide"
        }
      },
      "cell_type": "markdown",
      "source": "## Plot function"
    },
    {
      "metadata": {
        "slideshow": {
          "slide_type": "fragment"
        },
        "trusted": true
      },
      "cell_type": "code",
      "source": "def plot_data(x_data,y_data, x_pred, y_pred):\n    fig = plt.figure(figsize=(10,5)); ax = plt.axes()\n    ax.set_ylim(bottom=0,top=50); ax.set_xlim(left=0,right=20)\n    ax.plot(x_pred,y_pred)\n    ax.scatter(x_data, y_data,marker=\"x\",c=\"red\")\n    ax.set_xlabel(\"Number of year experience\")\n    ax.set_ylabel(\"Salary (RM 100's)\")",
      "execution_count": 6,
      "outputs": []
    },
    {
      "metadata": {
        "trusted": true,
        "slideshow": {
          "slide_type": "fragment"
        }
      },
      "cell_type": "code",
      "source": " plot_da",
      "execution_count": null,
      "outputs": []
    },
    {
      "metadata": {
        "slideshow": {
          "slide_type": "subslide"
        }
      },
      "cell_type": "markdown",
      "source": "## Salary prediction  \n\ngiven $x$ is the number of year experience and, $y$ is the given salary, predict the salary for new hiring based on the working experience"
    },
    {
      "metadata": {
        "slideshow": {
          "slide_type": "fragment"
        },
        "trusted": true
      },
      "cell_type": "code",
      "source": "plot_data(x_data, y_data,[0],[0])",
      "execution_count": 8,
      "outputs": [
        {
          "output_type": "display_data",
          "data": {
            "image/png": "[encoded data removed]",
            "text/plain": "<Figure size 720x360 with 1 Axes>"
          },
          "metadata": {
            "needs_background": "light"
          }
        }
      ]
    },
    {
      "metadata": {
        "slideshow": {
          "slide_type": "subslide"
        }
      },
      "cell_type": "markdown",
      "source": "## Linear Regression With One Variable\n\n- predict a single output value y from a single input value x.\n- Hypothesis = $h(x) = \\Theta + \\Theta_1 x $\n"
    },
    {
      "metadata": {
        "trusted": true,
        "slideshow": {
          "slide_type": "fragment"
        }
      },
      "cell_type": "code",
      "source": "class model:\n    def __init__(self):\n        self.thetas = np.random.uniform(low=-5,high=10,size=2)\n    \n    def __call__(self,x):\n        return self.thetas[0] + self.thetas[1]*x",
      "execution_count": null,
      "outputs": []
    },
    {
      "metadata": {
        "slideshow": {
          "slide_type": "subslide"
        }
      },
      "cell_type": "markdown",
      "source": "## Linear Regression With One Variable Cost Function\n\nThe cost function $J$ for a particular choice of parameters θ is the mean squared error (MSE):\n\n\\begin{equation*}\nJ(\\theta) = \\frac{1}{m} \\sum_{i=1}^{m}(h_\\theta(x^{(i)})-y^{i})^2 \n\\end{equation*}\n\n\n$m$       = The number of training example  \n$x^{(i)}$ = The input vector for the $i^{th}$ training example  \n$y^{(i)}$ = The class label for the $i^{th}$ training example  \n$\\theta$  = The chosen parameter values or \"weights\" $(\\theta_0,\\theta_1,\\theta_2)$ \n"
    },
    {
      "metadata": {
        "trusted": true,
        "slideshow": {
          "slide_type": "fragment"
        }
      },
      "cell_type": "code",
      "source": "def MSE(y_pred,y_ground):\n    res = np.sum((np.power(y_pred - y_ground,2)))/(2*y_pred.size)\n    return res",
      "execution_count": 4,
      "outputs": []
    },
    {
      "metadata": {
        "slideshow": {
          "slide_type": "subslide"
        }
      },
      "cell_type": "markdown",
      "source": "## Gradient descent algorithm\n\nrepeat until convergence\n\n$\\theta_j := \\theta_j - \\alpha \\frac{\\partial}{\\partial\\theta_j } J(\\theta_0,\\theta_1)  \\qquad (for\\: j=0\\: and\\:  j=1)$"
    },
    {
      "metadata": {
        "trusted": true,
        "slideshow": {
          "slide_type": "fragment"
        }
      },
      "cell_type": "code",
      "source": "def gradient_descent(m: model, x_data, y_data,alpha: int):\n    '''\n    m : model\n    alpha : learning rate\n    '''\n    y_pred = m(x_data)\n    old_thetas = m.thetas\n    new_thetas = np.empty(old_thetas.size)\n    \n    new_thetas[0] = alpha * np.sum(y_pred - y_data)/(y_pred.size)\n    new_thetas[1] = alpha * np.sum((y_pred - y_data)* x_data)/(y_pred.size) \n    new_thetas = old_thetas - new_thetas\n    \n    m.thetas = new_thetas",
      "execution_count": 5,
      "outputs": []
    },
    {
      "metadata": {
        "slideshow": {
          "slide_type": "subslide"
        }
      },
      "cell_type": "markdown",
      "source": "## Combining it all"
    },
    {
      "metadata": {
        "trusted": true,
        "slideshow": {
          "slide_type": "fragment"
        }
      },
      "cell_type": "code",
      "source": "print(x_data)\nprint(\"Starting thetas : \",m.thetas)\nprint(\"Expected thetas : \",bias, \" \", grad)\nfor i in range(500):\n    if i%20 == 0:\n        print(MSE(m(x_data),y_data))\n    gradient_descent(m,x_data,y_data,0.01)\n    #print(\"loop \",i , \" thetas : \", m.thetas)\n\nprint(\"After thetas : \",m.thetas)\n\n\n",
      "execution_count": 13,
      "outputs": [
        {
          "output_type": "stream",
          "text": "[14.62238331  9.42216355 11.3880996   8.53627222  5.92406721 14.38431496\n 11.85215639  9.6621812   9.50411741 12.82076124  9.04838047  9.80748583\n  7.55332834 10.61260268 13.16709611  9.56618049  7.24544919  6.24121334\n 14.74310292 12.40689621 14.81721117  8.11031055  8.68966578  5.83425805\n  9.28859691 13.45910928  5.56398119  6.83837154 14.49142635 11.89052951]\nStarting thetas :  [6.66012558 2.45727572]\nExpected thetas :  8.984422865261001   2.253511986156638\n1.2335019492246282\n1.2312470725365328\n1.2290571966941968\n1.2269304479322103\n1.2248650064997915\n1.2228591051037234\n1.220911027396175\n1.2190191065060973\n1.2171817236129852\n1.2153973065617178\n1.213664328517353\n1.2119813066586922\n1.2103468009095024\n1.2087594127063244\n1.2072177838017832\n1.2057205951024086\n1.2042665655399574\n1.2028544509752603\n1.201483043133686\n1.2001511685712734\n1.1988576876706802\n1.1976014936660642\n1.196381511696092\n1.1951966978842181\n1.194046038445506\nAfter thetas :  [7.10631172 2.41692632]\n",
          "name": "stdout"
        }
      ]
    },
    {
      "metadata": {
        "slideshow": {
          "slide_type": "slide"
        }
      },
      "cell_type": "markdown",
      "source": "# Basic Tensorflow"
    },
    {
      "metadata": {
        "trusted": true
      },
      "cell_type": "code",
      "source": "def get_plot_data(m):\n    x = np.linspace(0, 20, 1000)\n    f = lambda x : m.thetas[0] + m.thetas[1]*x\n    return x, m(x)",
      "execution_count": 9,
      "outputs": []
    },
    {
      "metadata": {
        "slideshow": {
          "slide_type": "slide"
        },
        "trusted": true
      },
      "cell_type": "code",
      "source": "#Generate Data\nx_data, y_data, grad, bias = generate_data()\n\nf = lambda x, grad, bias: grad*x+bias\nx = np.linspace(0, 20, 1000)\ny = f(x,grad,bias)\n\nx_base = np.linspace(0, 20, 1000)\ny_base = np.linspace(0, 50, 1000)\n\nm = model()\nx_model, y_model = get_plot_data(m)\n\n\n",
      "execution_count": 15,
      "outputs": [
        {
          "output_type": "error",
          "ename": "NameError",
          "evalue": "name 'generate_data' is not defined",
          "traceback": [
            "\u001b[0;31m---------------------------------------------------------------------------\u001b[0m",
            "\u001b[0;31mNameError\u001b[0m                                 Traceback (most recent call last)",
            "\u001b[0;32m<ipython-input-15-a254bee838a6>\u001b[0m in \u001b[0;36m<module>\u001b[0;34m\u001b[0m\n\u001b[1;32m      1\u001b[0m \u001b[0;31m#Generate Data\u001b[0m\u001b[0;34m\u001b[0m\u001b[0;34m\u001b[0m\u001b[0m\n\u001b[0;32m----> 2\u001b[0;31m \u001b[0mx_data\u001b[0m\u001b[0;34m,\u001b[0m \u001b[0my_data\u001b[0m\u001b[0;34m,\u001b[0m \u001b[0mgrad\u001b[0m\u001b[0;34m,\u001b[0m \u001b[0mbias\u001b[0m \u001b[0;34m=\u001b[0m \u001b[0mgenerate_data\u001b[0m\u001b[0;34m(\u001b[0m\u001b[0;34m)\u001b[0m\u001b[0;34m\u001b[0m\u001b[0m\n\u001b[0m\u001b[1;32m      3\u001b[0m \u001b[0;34m\u001b[0m\u001b[0m\n\u001b[1;32m      4\u001b[0m \u001b[0mf\u001b[0m \u001b[0;34m=\u001b[0m \u001b[0;32mlambda\u001b[0m \u001b[0mx\u001b[0m\u001b[0;34m,\u001b[0m \u001b[0mgrad\u001b[0m\u001b[0;34m,\u001b[0m \u001b[0mbias\u001b[0m\u001b[0;34m:\u001b[0m \u001b[0mgrad\u001b[0m\u001b[0;34m*\u001b[0m\u001b[0mx\u001b[0m\u001b[0;34m+\u001b[0m\u001b[0mbias\u001b[0m\u001b[0;34m\u001b[0m\u001b[0m\n\u001b[1;32m      5\u001b[0m \u001b[0mx\u001b[0m \u001b[0;34m=\u001b[0m \u001b[0mnp\u001b[0m\u001b[0;34m.\u001b[0m\u001b[0mlinspace\u001b[0m\u001b[0;34m(\u001b[0m\u001b[0;36m0\u001b[0m\u001b[0;34m,\u001b[0m \u001b[0;36m20\u001b[0m\u001b[0;34m,\u001b[0m \u001b[0;36m1000\u001b[0m\u001b[0;34m)\u001b[0m\u001b[0;34m\u001b[0m\u001b[0m\n",
            "\u001b[0;31mNameError\u001b[0m: name 'generate_data' is not defined"
          ]
        }
      ]
    },
    {
      "metadata": {
        "trusted": true
      },
      "cell_type": "code",
      "source": "x_model, y_model = get_plot_data(m)\n\nfig = plt.figure()\nax = plt.axes()\n\nax.set_ylim(bottom=0,top=50)\nax.set_xlim(left=0,right=20)\nax.plot(x, y,c='green');\n# ax.plot(x_base,y_base)\nax.plot(x_model,y_model)\nax.scatter(x_data, y_data,marker=\"x\",c=\"red\")",
      "execution_count": 105,
      "outputs": [
        {
          "output_type": "execute_result",
          "execution_count": 105,
          "data": {
            "text/plain": "<matplotlib.collections.PathCollection at 0x7f83b056a6d8>"
          },
          "metadata": {}
        },
        {
          "output_type": "display_data",
          "data": {
            "image/png": "[encoded data removed]",
            "text/plain": "<Figure size 432x288 with 1 Axes>"
          },
          "metadata": {
            "needs_background": "light"
          }
        }
      ]
    },
    {
      "metadata": {
        "trusted": true
      },
      "cell_type": "code",
      "source": "x_data, y_data, grad, bias = generate_data()\nfig = plt.figure()\nax = plt.axes()\nax.scatter(x_data, y_data,marker=\"x\",c=\"red\")\nnp.savetxt('x.txt', x_data)  \nnp.savetxt('y.txt', y_data)  \nx_data , y_data",
      "execution_count": 5,
      "outputs": [
        {
          "output_type": "execute_result",
          "execution_count": 5,
          "data": {
            "text/plain": "(array([11.56521221, 14.96336755, 13.57762152,  9.0779645 , 13.2968672 ,\n        11.02076079, 11.54794105, 11.52275874,  7.66632758,  6.60723659,\n         7.3096263 ,  6.16814108,  7.9953345 , 11.58036491, 11.39188395,\n        11.9695718 , 11.35697429, 12.75935082,  8.71729662, 13.28880429,\n         6.78531441,  5.00834702, 14.04989955,  5.28229024,  6.78365642,\n        10.40275257,  9.98378205, 12.97301588, 11.29746967,  6.81659804]),\n array([33.5552873 , 43.43874254, 40.61242884, 26.97862588, 41.08418276,\n        34.98488109, 33.05888915, 37.09718505, 24.81246625, 26.39096614,\n        23.8524409 , 22.34367828, 28.70509037, 33.40234171, 34.12803795,\n        33.86010946, 31.75641046, 39.74176937, 29.05429801, 37.94680044,\n        24.86298643, 21.49251745, 41.62969978, 22.07444009, 22.80914522,\n        32.18687395, 29.76337154, 39.43663059, 35.71718094, 26.35533417]))"
          },
          "metadata": {}
        },
        {
          "output_type": "display_data",
          "data": {
            "image/png": "[encoded data removed]",
            "text/plain": "<Figure size 432x288 with 1 Axes>"
          },
          "metadata": {
            "needs_background": "light"
          }
        }
      ]
    },
    {
      "metadata": {
        "trusted": true
      },
      "cell_type": "code",
      "source": "import numpy as np\n\ndef generate_data():\n    grad = np.random.uniform(low=1,high=3,size=1)[0]\n    bias = np.random.uniform(low=0,high=10,size=1)[0]\n    f = lambda x,grad,bias,penality,logit: grad*x+bias+(penality*logit)\n    logit = lambda x : 1 / (1 + np.power((x/(1-x)),2) )\n    norm = lambda x: np.abs(x - 10)/10\n    x = np.random.uniform(low=5,high=15,size=30)\n    x_logit = logit(norm(x))\n    penality = np.random.uniform(low=-3,high=3,size=30)\n\n    return x , f(x,grad,bias,penality,x_logit), grad, bias,",
      "execution_count": 2,
      "outputs": []
    },
    {
      "metadata": {
        "trusted": true
      },
      "cell_type": "code",
      "source": "logit = lambda x : 1 / (1 + np.power((x/(1-x)),2) )\nx = np.linspace(0, 1, 50)\n# print(x)\n# print(logit(x))\n\n%matplotlib inline\nimport matplotlib.pyplot as plt\nplt.style.use('seaborn-whitegrid')\nimport numpy as np\n\nfig = plt.figure()\nax = plt.axes()\n\nax.plot(x, logit(x))",
      "execution_count": 10,
      "outputs": [
        {
          "output_type": "stream",
          "text": "/home/nbuser/anaconda3_501/lib/python3.6/site-packages/ipykernel/__main__.py:1: RuntimeWarning: divide by zero encountered in true_divide\n  if __name__ == '__main__':\n",
          "name": "stderr"
        },
        {
          "output_type": "execute_result",
          "execution_count": 10,
          "data": {
            "text/plain": "[<matplotlib.lines.Line2D at 0x7fb75d726e80>]"
          },
          "metadata": {}
        },
        {
          "output_type": "display_data",
          "data": {
            "image/png": "[encoded data removed]",
            "text/plain": "<Figure size 432x288 with 1 Axes>"
          },
          "metadata": {}
        }
      ]
    },
    {
      "metadata": {
        "trusted": true
      },
      "cell_type": "code",
      "source": "norm = lambda x: np.abs(x - 10)/10\nx = np.random.uniform(low=5,high=15,size=30)\nprint(x)\nprint(norm(x))",
      "execution_count": 12,
      "outputs": [
        {
          "output_type": "stream",
          "text": "[13.30391579 12.65512299  8.43485973 11.814641    7.87204986  6.18952057\n 14.29756016 11.66869977 10.56550721  9.71993903 14.80234608 10.89791784\n 14.92452754 13.98689045  8.5298043  13.28518861  9.32588511 10.71785765\n 11.25531137 10.61064078 14.16269719 11.11591031 13.09022456 14.06660388\n 13.95366688  8.57260778 11.13866428 12.60938342  6.41419606 14.04876444]\n[0.33039158 0.2655123  0.15651403 0.1814641  0.21279501 0.38104794\n 0.42975602 0.16686998 0.05655072 0.0280061  0.48023461 0.08979178\n 0.49245275 0.39868904 0.14701957 0.32851886 0.06741149 0.07178576\n 0.12553114 0.06106408 0.41626972 0.11159103 0.30902246 0.40666039\n 0.39536669 0.14273922 0.11386643 0.26093834 0.35858039 0.40487644]\n",
          "name": "stdout"
        }
      ]
    },
    {
      "metadata": {
        "trusted": true
      },
      "cell_type": "code",
      "source": "generate_data()",
      "execution_count": 30,
      "outputs": [
        {
          "output_type": "stream",
          "text": "[0.38264825 0.50153896 0.38689835 0.59998211 0.59025753 0.56904706\n 0.496424   0.59730688 0.44320399 0.56600377 0.51255325 0.59468893\n 0.547844   0.43764419 0.39737256 0.52171758 0.60098804 0.54094104\n 0.42771431 0.47956805 0.42451346 0.41753974 0.60970501 0.38323795\n 0.4997289  0.42741688 0.48585059 0.3882652  0.5852717  0.52230991]\n",
          "name": "stdout"
        },
        {
          "output_type": "execute_result",
          "execution_count": 30,
          "data": {
            "text/plain": "(array([ 5.21677194, 10.0615585 ,  5.39631252, 14.05390567, 13.65030103,\n        12.77964251,  9.85695769, 13.94256224,  7.71831192, 12.6556491 ,\n        10.50223563, 13.83383633, 11.9196333 ,  7.49271464,  5.83575113,\n        10.86925001, 14.09583628, 11.6413165 ,  7.08817161,  9.18226661,\n         6.95727862,  6.6711876 , 14.46072415,  5.24172774,  9.9891562 ,\n         7.07601935,  9.43387263,  5.45389751, 13.44452576, 10.89298946]),\n array([20.79375888, 25.51786866, 15.65360891, 38.14888212, 33.62290229,\n        29.05316507, 22.52495968, 40.16434926, 26.82255193, 37.7115849 ,\n        28.03099987, 39.62760906, 32.55647564, 18.69594052, 20.02780459,\n        24.84585575, 36.71443136, 27.9114012 , 19.96976048, 23.50480893,\n        17.96948291, 18.42482527, 37.25289895, 14.39714692, 30.44517828,\n        21.20609439, 28.42594833, 19.96949501, 39.38303715, 31.83867499]))"
          },
          "metadata": {}
        }
      ]
    },
    {
      "metadata": {
        "slideshow": {
          "slide_type": "slide"
        }
      },
      "cell_type": "markdown",
      "source": " <img src=\"img/vandiagram.PNG\"  width=\"500\">\n \n "
    },
    {
      "metadata": {
        "trusted": true
      },
      "cell_type": "code",
      "source": "!pip freeze",
      "execution_count": 1,
      "outputs": [
        {
          "output_type": "stream",
          "text": "absl-py==0.8.1\r\nadal==1.2.2\r\nalabaster==0.7.11\r\naltair==3.2.0\r\nanaconda-client==1.7.2\r\nanaconda-navigator==1.9.2\r\nanaconda-project==0.8.2\r\nansiwrap==0.8.4\r\nantlr4-python3-runtime==4.7.2\r\nappdirs==1.4.3\r\napplicationinsights==0.11.9\r\nargcomplete==1.10.0\r\narrow==0.15.4\r\nasn1crypto==0.24.0\r\nastor==0.8.0\r\nastroid==2.0.4\r\nastropy==3.0.4\r\natomicwrites==1.2.1\r\nattrs==18.2.0\r\nAutomat==0.7.0\r\nazure==4.0.0\r\nazure-applicationinsights==0.1.0\r\nazure-batch==4.1.3\r\nazure-cli-core==2.0.54\r\nazure-cli-nspkg==3.0.4\r\nazure-cli-telemetry==1.0.4\r\nazure-common==1.1.23\r\nazure-cosmosdb-nspkg==2.0.2\r\nazure-cosmosdb-table==1.0.6\r\nazure-datalake-store==0.0.48\r\nazure-eventgrid==1.3.0\r\nazure-graphrbac==0.40.0\r\nazure-keyvault==1.1.0\r\nazure-kusto-data==0.0.38\r\nazure-kusto-ingest==0.0.38\r\nazure-loganalytics==0.1.0\r\nazure-mgmt==4.0.0\r\nazure-mgmt-advisor==1.0.1\r\nazure-mgmt-applicationinsights==0.1.1\r\nazure-mgmt-authorization==0.50.0\r\nazure-mgmt-batch==5.0.1\r\nazure-mgmt-batchai==2.0.0\r\nazure-mgmt-billing==0.2.0\r\nazure-mgmt-cdn==3.1.0\r\nazure-mgmt-cognitiveservices==3.0.0\r\nazure-mgmt-commerce==1.0.1\r\nazure-mgmt-compute==4.6.2\r\nazure-mgmt-consumption==2.0.0\r\nazure-mgmt-containerinstance==1.5.0\r\nazure-mgmt-containerregistry==2.8.0\r\nazure-mgmt-containerservice==4.4.0\r\nazure-mgmt-cosmosdb==0.4.1\r\nazure-mgmt-datafactory==0.6.0\r\nazure-mgmt-datalake-analytics==0.6.0\r\nazure-mgmt-datalake-nspkg==3.0.1\r\nazure-mgmt-datalake-store==0.5.0\r\nazure-mgmt-datamigration==1.0.0\r\nazure-mgmt-devspaces==0.1.0\r\nazure-mgmt-devtestlabs==2.2.0\r\nazure-mgmt-dns==2.1.0\r\nazure-mgmt-eventgrid==1.0.0\r\nazure-mgmt-eventhub==2.6.0\r\nazure-mgmt-hanaonazure==0.1.1\r\nazure-mgmt-iotcentral==0.1.0\r\nazure-mgmt-iothub==0.5.0\r\nazure-mgmt-iothubprovisioningservices==0.2.0\r\nazure-mgmt-keyvault==1.1.0\r\nazure-mgmt-loganalytics==0.2.0\r\nazure-mgmt-logic==3.0.0\r\nazure-mgmt-machinelearningcompute==0.4.1\r\nazure-mgmt-managementgroups==0.1.0\r\nazure-mgmt-managementpartner==0.1.1\r\nazure-mgmt-maps==0.1.0\r\nazure-mgmt-marketplaceordering==0.1.0\r\nazure-mgmt-media==1.0.0\r\nazure-mgmt-monitor==0.5.2\r\nazure-mgmt-msi==0.2.0\r\nazure-mgmt-network==2.7.0\r\nazure-mgmt-notificationhubs==2.1.0\r\nazure-mgmt-nspkg==3.0.2\r\nazure-mgmt-policyinsights==0.1.0\r\nazure-mgmt-powerbiembedded==2.0.0\r\nazure-mgmt-rdbms==1.9.0\r\nazure-mgmt-recoveryservices==0.3.0\r\nazure-mgmt-recoveryservicesbackup==0.3.0\r\nazure-mgmt-redis==5.0.0\r\nazure-mgmt-relay==0.1.0\r\nazure-mgmt-reservations==0.2.1\r\nazure-mgmt-resource==2.0.0\r\nazure-mgmt-scheduler==2.0.0\r\nazure-mgmt-search==2.1.0\r\nazure-mgmt-servicebus==0.5.3\r\nazure-mgmt-servicefabric==0.2.0\r\nazure-mgmt-signalr==0.1.1\r\nazure-mgmt-sql==0.9.1\r\nazure-mgmt-storage==2.0.0\r\nazure-mgmt-subscription==0.2.0\r\nazure-mgmt-trafficmanager==0.50.0\r\nazure-mgmt-web==0.35.0\r\nazure-nspkg==3.0.2\r\nazure-servicebus==0.21.1\r\nazure-servicefabric==6.3.0.0\r\nazure-servicemanagement-legacy==0.20.6\r\nazure-storage-blob==2.1.0\r\nazure-storage-common==2.1.0\r\nazure-storage-file==1.4.0\r\nazure-storage-queue==2.1.0\r\nazureml-automl-core==1.0.72.1\r\nazureml-contrib-notebook==1.0.72\r\nazureml-core==1.0.72\r\nazureml-dataprep==1.1.30\r\nazureml-dataprep-native==13.1.0\r\nazureml-defaults==1.0.72\r\nazureml-explain-model==1.0.72\r\nazureml-interpret==1.0.72.1\r\nazureml-model-management-sdk==1.0.1b6.post1\r\nazureml-opendatasets==1.0.72.1\r\nazureml-pipeline==1.0.72\r\nazureml-pipeline-core==1.0.72\r\nazureml-pipeline-steps==1.0.72\r\nazureml-sdk==1.0.72\r\nazureml-telemetry==1.0.72\r\nazureml-train==1.0.72\r\nazureml-train-automl==1.0.72\r\nazureml-train-core==1.0.72\r\nazureml-train-restclients-hyperdrive==1.0.72\r\nazureml-widgets==1.0.72\r\nBabel==2.6.0\r\nbackcall==0.1.0\r\nbackports.shutil-get-terminal-size==1.0.0\r\nbackports.tempfile==1.0\r\nbackports.weakref==1.0rc1\r\nbcrypt==3.1.7\r\nbeautifier==0.5.5\r\nbeautifulsoup4==4.6.3\r\nbitarray==0.8.3\r\nbkcharts==0.2\r\nblaze==0.11.3\r\nbleach==1.5.0\r\nbokeh==0.13.0\r\nboto==2.49.0\r\nboto3==1.4.8\r\nbotocore==1.8.50\r\nBottleneck==1.2.1\r\nbqplot==0.12.0\r\nbrewer2mpl==1.4.1\r\nbz2file==0.98\r\nCacheControl==0.12.5\r\ncachetools==3.1.1\r\ncertifi==2018.10.15\r\ncffi==1.11.5\r\ncharacteristic==14.3.0\r\nchardet==3.0.4\r\nClick==7.0\r\ncloudpickle==1.2.2\r\nclyent==1.2.2\r\ncntk==2.5.1\r\ncolorama==0.3.9\r\nconda==4.5.11\r\nconda-build==3.16.0\r\nconfigparser==3.7.4\r\nconstantly==15.1.0\r\ncontextlib2==0.5.5\r\ncoverage==3.7.1\r\ncoveralls==0.5\r\ncryptography==2.3.1\r\ncycler==0.10.0\r\nCython==0.29.14\r\ncytoolz==0.9.0.1\r\ndask==0.19.3\r\ndatacleaner==0.1.5\r\ndatascience==0.10.6\r\ndatashape==0.5.4\r\ndecorator==4.3.0\r\ndefusedxml==0.5.0\r\nDeprecated==1.2.6\r\ndill==0.3.1.1\r\ndistributed==1.23.3\r\ndistro==1.4.0\r\ndocker==4.1.0\r\ndocker-py==1.10.6\r\ndocker-pycreds==0.4.0\r\ndocopt==0.6.2\r\ndocutils==0.14\r\nDora==0.0.2\r\ndotnetcore2==2.1.10\r\nedward==1.3.5\r\nelasticsearch==7.0.5\r\nentrypoints==0.2.3\r\net-xmlfile==1.0.1\r\nfastcache==1.0.2\r\nfeedparser==5.2.1\r\nfilelock==3.0.8\r\nfire==0.2.1\r\nFlask==1.0.3\r\nFlask-Cors==3.0.6\r\nfolium==0.2.1\r\nftfy==5.3.0\r\nfusepy==3.0.1\r\nfuture==0.16.0\r\nfutures==3.1.1\r\ngast==0.3.2\r\nGDAL==2.3.0\r\ngensim==3.8.1\r\ngevent==1.3.6\r\nggplot==0.11.5\r\nglob2==0.6\r\ngmpy2==2.0.8\r\ngoogle-auth==1.7.0\r\ngoogle-auth-oauthlib==0.4.1\r\ngoogle-pasta==0.1.8\r\ngraphviz==0.13.2\r\ngreenlet==0.4.15\r\ngrpcio==1.25.0\r\ngunicorn==19.9.0\r\ngym==0.15.3\r\nh5py==2.8.0\r\nhdmedians==0.13\r\nheapdict==1.0.0\r\nholoviews==1.10.7\r\nhtml5lib==0.9999999\r\nhumanfriendly==4.18\r\nhyperlink==18.0.0\r\nidna==2.7\r\nimageio==2.4.1\r\nimagesize==1.1.0\r\nincremental==17.5.0\r\ninterpret-community==0.1.0.3.2\r\ninterpret-core==0.1.18\r\nipykernel==5.1.3\r\nipython==7.1.1\r\nipython-genutils==0.2.0\r\nipywidgets==7.5.1\r\nisodate==0.6.0\r\nisort==4.3.4\r\nitsdangerous==0.24\r\njdcal==1.4\r\njedi==0.13.1\r\njeepney==0.4\r\nJinja2==2.10\r\njmespath==0.9.4\r\njoblib==0.14.0\r\njson-logging-py==0.2\r\nJsonForm==0.0.2\r\njsonpickle==1.2\r\njsonschema==2.6.0\r\nJsonSir==0.0.2\r\njupyter==1.0.0\r\njupyter-client==5.2.3\r\njupyter-console==6.0.0\r\njupyter-core==4.4.0\r\njupyterlab==0.34.12\r\njupyterlab-launcher==0.13.1\r\nkafka-python==1.4.7\r\nkazoo==2.5.0\r\nKeras==2.3.1\r\nKeras-Applications==1.0.8\r\nKeras-Preprocessing==1.1.0\r\nkeras2onnx==1.6.0\r\nkeyring==13.2.1\r\nkiwisolver==1.0.1\r\nklein==19.6.0\r\nknack==0.5.1\r\nKqlmagic==0.1.107.post1\r\nlancet-ioam==0.9.0\r\nlazy-object-proxy==1.3.1\r\nliac-arff==2.4.0\r\nlibarchive-c==2.8\r\nlightgbm==2.3.0\r\nline-profiler==2.1.2\r\nllvmlite==0.25.0\r\nlocket==0.2.0\r\nlockfile==0.12.2\r\nluigi==2.8.2\r\nlxml==4.2.5\r\nMarkdown==3.0.1\r\nMarkupSafe==1.1.0\r\nmatplotlib==3.0.0\r\nmccabe==0.6.1\r\nmemory-profiler==0.56.0\r\nmistune==0.8.4\r\nmkl-fft==1.0.6\r\nmkl-random==1.0.1\r\nmock==2.0.0\r\nmore-itertools==4.3.0\r\nmpmath==1.0.0\r\nmsgpack==0.5.6\r\nmsrest==0.6.10\r\nmsrestazure==0.6.2\r\nmultimethods==1.0.0\r\nmultipledispatch==0.6.0\r\nnatsort==5.4.0\r\nnavigator-updater==0.2.1\r\nnbconvert==5.6.1\r\nnbformat==4.4.0\r\nndg-httpsclient==0.5.1\r\nnetworkx==2.2\r\nnimbusml==1.5.0\r\nnltk==3.3\r\nnose==1.3.7\r\nnotebook==5.7.2\r\nnumba==0.40.0\r\nnumexpr==2.6.8\r\nnumpy==1.16.2\r\nnumpydoc==0.8.0\r\noauthlib==3.1.0\r\nodo==0.5.1\r\nokpy==1.13.11\r\nolefile==0.46\r\nonnx==1.6.0\r\nonnxconverter-common==1.6.0\r\nonnxmltools==1.6.0\r\nonnxruntime==1.0.0\r\nopenfst==1.6.1\r\nopenpyxl==2.5.8\r\npackaging==18.0\r\npandas==0.23.4\r\npandasql==0.7.3\r\npandocfilters==1.4.2\r\npapermill==1.2.1\r\nparam==1.7.0\r\nparamiko==2.6.0\r\nparso==0.3.1\r\npartd==0.3.8\r\npath.py==11.1.0\r\npathlib2==2.3.2\r\npathspec==0.6.0\r\npatsy==0.5.1\r\npbr==4.2.0\r\npep8==1.7.1\r\npexpect==4.6.0\r\nphonenumbers==8.10.22\r\npickleshare==0.7.5\r\nPillow==5.3.0\r\npkginfo==1.4.2\r\nplotly==4.2.1\r\npluggy==0.7.1\r\nply==3.11\r\npmdarima==1.1.1\r\nportalocker==1.5.1\r\nprettypandas==0.0.4\r\nprettytable==0.7.2\r\nprometheus-client==0.4.2\r\nprompt-toolkit==2.0.7\r\nprotobuf==3.10.0\r\npsutil==5.4.7\r\npsycopg2==2.7.5\r\nptyprocess==0.6.0\r\npy==1.6.0\r\npy4j==0.10.7\r\npyang==2.1\r\npyarrow==0.13.0\r\npyasn1==0.4.4\r\npyasn1-modules==0.2.2\r\npycodestyle==2.4.0\r\npycosat==0.6.3\r\npycparser==2.19\r\npycrypto==2.6.1\r\npycurl==7.43.0.2\r\npydot==1.4.1\r\npyflakes==2.0.0\r\nPyGithub==1.44.1\r\npyglet==1.3.2\r\nPygments==2.2.0\r\nPyHamcrest==1.9.0\r\nPyJWT==1.7.1\r\npykafka==2.8.0\r\npylint==2.1.1\r\npymc==2.3.6\r\npymc3==3.7\r\npymongo==3.7.1\r\nPympler==0.7\r\npymssql==2.1.1\r\nPyMySQL==0.9.2\r\nPyNaCl==1.3.0\r\npyodbc==3.1.1\r\npyOpenSSL==18.0.0\r\npypachy==0.1.5\r\npyparsing==2.3.0\r\npyprof2calltree==1.4.4\r\nPySocks==1.6.8\r\npyspark==2.4.4\r\npytest==3.8.2\r\npytest-arraydiff==0.2\r\npytest-astropy==0.4.0\r\npytest-doctestplus==0.1.3\r\npytest-openfiles==0.3.0\r\npytest-remotedata==0.3.0\r\npython-daemon==2.1.2\r\npython-dateutil==2.8.1\r\nPython-EasyConfig==0.1.7\r\npytz==2019.3\r\npyviz-comms==0.6.0\r\nPyWavelets==1.0.1\r\nPyYAML==3.13\r\npyzmq==17.1.2\r\nQtAwesome==0.5.0\r\nqtconsole==4.4.2\r\nQtPy==1.5.1\r\nrequests==2.22.0\r\nrequests-oauthlib==1.3.0\r\nResource==0.2.1\r\nretrying==1.3.3\r\nrope==0.11.0\r\nrpy2==3.0.5\r\nrsa==4.0\r\nruamel-yaml==0.15.46\r\nruamel.yaml==0.15.89\r\ns3transfer==0.1.13\r\nscikit-bio==0.5.5\r\nscikit-image==0.16.2\r\nscikit-learn==0.20.3\r\nscipy==1.1.0\r\nscrubadub==1.2.1\r\nseaborn==0.9.0\r\nSecretStorage==3.1.0\r\nSend2Trash==1.5.0\r\nservice-identity==17.0.0\r\nshap==0.29.3\r\nsimplegeneric==0.8.1\r\nsingledispatch==3.4.0.3\r\nsix==1.11.0\r\nskl2onnx==1.4.9\r\nsklearn==0.0\r\nsklearn-pandas==1.7.0\r\nsmart-open==1.9.0\r\nsnakeviz==2.0.1\r\nsnowballstemmer==1.2.1\r\nsortedcollections==1.0.1\r\nsortedcontainers==2.0.5\r\nSphinx==1.8.1\r\nsphinxcontrib-websupport==1.1.0\r\nspyder==3.3.1\r\nspyder-kernels==0.2.6\r\nSQLAlchemy==1.2.14\r\nstatsmodels==0.9.0\r\nsympy==1.3\r\ntables==3.4.4\r\ntabulate==0.8.2\r\ntb-nightly==1.14.0a20190603\r\ntblib==1.3.2\r\ntenacity==6.0.0\r\ntensorboard==2.0.1\r\ntensorflow==2.0.0b1\r\ntermcolor==1.1.0\r\nterminado==0.8.1\r\ntestpath==0.4.2\r\ntextblob==0.15.3\r\ntextwrap3==0.9.2\r\ntf-estimator-nightly==1.14.0.dev2019060501\r\ntf2onnx==1.5.3\r\nTheano==1.0.4\r\ntoolz==0.9.0\r\ntorch==1.3.1\r\ntorchvision==0.4.2\r\ntornado==4.5.3\r\ntqdm==4.26.0\r\ntraitlets==4.3.2\r\ntraittypes==0.2.1\r\ntreq==18.6.0\r\nTubes==0.2.0\r\nTwisted==18.7.0\r\ntyped-ast==1.1.0\r\ntyping==3.7.4.1\r\ntyping-extensions==3.7.4.1\r\nunicodecsv==0.14.1\r\nupdate-checker==0.16\r\nurllib3==1.23\r\nwcwidth==0.1.7\r\nwebencodings==0.5.1\r\nwebsocket-client==0.56.0\r\nWerkzeug==0.14.1\r\nwget==3.2\r\nwidgetsnbextension==3.5.1\r\nword2vec==0.10.2\r\nwrapt==1.11.2\r\nxlrd==1.1.0\r\nXlsxWriter==1.1.1\r\nxlwt==1.3.0\r\nzict==0.1.3\r\nzope.interface==4.5.0\r\n",
          "name": "stdout"
        }
      ]
    },
    {
      "metadata": {},
      "cell_type": "markdown",
      "source": "## Tensorflow Example "
    },
    {
      "metadata": {},
      "cell_type": "markdown",
      "source": ""
    },
    {
      "metadata": {
        "slideshow": {
          "slide_type": "slide"
        },
        "trusted": true
      },
      "cell_type": "markdown",
      "source": "## Chapter 2 : Linear Regression"
    },
    {
      "metadata": {
        "trusted": true
      },
      "cell_type": "code",
      "source": "import tensorflow as tf\ntf.__version__",
      "execution_count": 3,
      "outputs": [
        {
          "output_type": "execute_result",
          "execution_count": 3,
          "data": {
            "text/plain": "'2.0.0-beta1'"
          },
          "metadata": {}
        }
      ]
    },
    {
      "metadata": {
        "trusted": true
      },
      "cell_type": "code",
      "source": "print(tf.add(1, 2))",
      "execution_count": 3,
      "outputs": [
        {
          "output_type": "stream",
          "text": "tf.Tensor(3, shape=(), dtype=int32)\n",
          "name": "stdout"
        }
      ]
    },
    {
      "metadata": {
        "trusted": true
      },
      "cell_type": "code",
      "source": "import numpy as np\n\nndarray = np.ones([3, 3])\n\nprint(\"TensorFlow operations convert numpy arrays to Tensors automatically\")\ntensor = tf.multiply(ndarray, 42)\nprint(tensor)\n\n\nprint(\"And NumPy operations convert Tensors to numpy arrays automatically\")\nprint(np.add(tensor, 1))\n\nprint(\"The .numpy() method explicitly converts a Tensor to a numpy array\")\nprint(tensor.numpy())",
      "execution_count": 3,
      "outputs": [
        {
          "output_type": "stream",
          "text": "TensorFlow operations convert numpy arrays to Tensors automatically\ntf.Tensor(\n[[42. 42. 42.]\n [42. 42. 42.]\n [42. 42. 42.]], shape=(3, 3), dtype=float64)\nAnd NumPy operations convert Tensors to numpy arrays automatically\n[[43. 43. 43.]\n [43. 43. 43.]\n [43. 43. 43.]]\nThe .numpy() method explicitly converts a Tensor to a numpy array\n[[42. 42. 42.]\n [42. 42. 42.]\n [42. 42. 42.]]\n",
          "name": "stdout"
        }
      ]
    },
    {
      "metadata": {
        "trusted": true
      },
      "cell_type": "code",
      "source": "print(\"Is there a GPU available: \"),\nprint(tf.config.experimental.list_physical_devices(\"GPU\"))",
      "execution_count": 4,
      "outputs": [
        {
          "output_type": "stream",
          "text": "Is there a GPU available: \n[]\n",
          "name": "stdout"
        }
      ]
    },
    {
      "metadata": {},
      "cell_type": "markdown",
      "source": "# Tensorflow Linear Regression"
    },
    {
      "metadata": {
        "trusted": true
      },
      "cell_type": "code",
      "source": "from __future__ import absolute_import, division, print_function, unicode_literals\n\nimport tensorflow as tf\n\ntf.keras.backend.clear_session()  # For easy reset of notebook state.",
      "execution_count": 1,
      "outputs": []
    },
    {
      "metadata": {
        "trusted": true
      },
      "cell_type": "code",
      "source": "from tensorflow.keras import layers\n\nclass model(layers.Layer):\n    def __init__(self):\n        super(model, self).__init__()\n       \n    def build(self,input_shape):\n        self.w = self.add_weight(shape=input_shape,\n                                 initializer=tf.initializers.RandomUniform(minval=-5,\n                                            maxval=1,\n                                            seed=None))\n        \n        self.b = self.add_weight(shape=input_shape,\n                                 initializer=tf.initializers.RandomUniform(minval=-5,\n                                            maxval=1,\n                                            seed=None))\n        \n    def call(self,inputs):\n        alpha * np.sum(y_pred - y_data)/(y_pred.size)\n        res = tf.multiply(inputs,self.w) + self.b\n        self.add_loss(res)\n        return res\n    \n    ",
      "execution_count": 45,
      "outputs": []
    },
    {
      "metadata": {
        "trusted": true
      },
      "cell_type": "code",
      "source": "\nm = model()\n\nx = tf.ones(1)\n\ny = m(x)\n\nprint(y)\n",
      "execution_count": 46,
      "outputs": [
        {
          "output_type": "stream",
          "text": "tf.Tensor([-5.3244214], shape=(1,), dtype=float32)\n",
          "name": "stdout"
        }
      ]
    },
    {
      "metadata": {
        "trusted": true
      },
      "cell_type": "code",
      "source": "m.weights",
      "execution_count": 34,
      "outputs": [
        {
          "output_type": "execute_result",
          "execution_count": 34,
          "data": {
            "text/plain": "[<tf.Variable 'Variable:0' shape=(1,) dtype=float32, numpy=array([3.176338], dtype=float32)>,\n <tf.Variable 'Variable:0' shape=(1,) dtype=float32, numpy=array([7.4540353], dtype=float32)>]"
          },
          "metadata": {}
        }
      ]
    },
    {
      "metadata": {
        "trusted": true
      },
      "cell_type": "code",
      "source": "# Instantiate an optimizer.\noptimizer = tf.keras.optimizers.SGD(learning_rate=1e-3)\nloss_fn = keras.losses.SparseCategoricalCrossentropy(from_logits=True)\n\n# Iterate over the batches of a dataset.\nfor x_batch_train, y_batch_train in train_dataset:\n  with tf.GradientTape() as tape:\n    logits = layer(x_batch_train)  # Logits for this minibatch\n    # Loss value for this minibatch\n    loss_value = loss_fn(y_batch_train, logits)\n    # Add extra losses created during this forward pass:\n    loss_value += sum(model.losses)\n\n  grads = tape.gradient(loss_value, model.trainable_weights)\n  optimizer.apply_gradients(zip(grads, model.trainable_weights))",
      "execution_count": null,
      "outputs": []
    }
  ],
  "metadata": {
    "kernelspec": {
      "name": "python36",
      "display_name": "Python 3.6",
      "language": "python"
    },
    "language_info": {
      "mimetype": "text/x-python",
      "nbconvert_exporter": "python",
      "name": "python",
      "pygments_lexer": "ipython3",
      "version": "3.6.6",
      "file_extension": ".py",
      "codemirror_mode": {
        "version": 3,
        "name": "ipython"
      }
    },
    "celltoolbar": "Slideshow",
    "rise": {
      "enable_chalkboard": true
    }
  },
  "nbformat": 4,
  "nbformat_minor": 2
}